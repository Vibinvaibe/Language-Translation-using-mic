{
 "cells": [
  {
   "cell_type": "code",
   "execution_count": 1,
   "id": "ad445a5a",
   "metadata": {
    "scrolled": true
   },
   "outputs": [],
   "source": [
    "import speech_recognition as s_r\n",
    "import tensorflow as tf\n",
    "from langdetect import detect\n",
    "from langdetect import detect_langs\n",
    "from iso639 import languages\n",
    "from langdetect import DetectorFactory\n",
    "DetectorFactory.seed = 0\n",
    "from googletrans import Translator\n",
    "import pyttsx3"
   ]
  },
  {
   "cell_type": "code",
   "execution_count": 2,
   "id": "2449b00d",
   "metadata": {},
   "outputs": [
    {
     "name": "stdout",
     "output_type": "stream",
     "text": [
      "pygame 2.3.0 (SDL 2.24.2, Python 3.10.9)\n",
      "Hello from the pygame community. https://www.pygame.org/contribute.html\n"
     ]
    }
   ],
   "source": [
    "from pygame import mixer\n",
    "from gtts import gTTS    \n",
    "\n",
    "count = 0\n",
    "\n",
    "def speak(data,dest_lang):\n",
    "    global count\n",
    "    filename=f'speech{count%2}.mp3'\n",
    "    tts = gTTS(text=data, lang=dest_lang)\n",
    "    tts.save(filename)\n",
    "    mixer.init()\n",
    "    mixer.music.load(filename)\n",
    "    mixer.music.play()\n",
    "    count += 1"
   ]
  },
  {
   "cell_type": "code",
   "execution_count": 3,
   "id": "fe85a14f",
   "metadata": {
    "scrolled": true
   },
   "outputs": [],
   "source": [
    "r = s_r.Recognizer()\n",
    "my_mic = s_r.Microphone()\n",
    "\n",
    "def listen():\n",
    "    with my_mic as source:\n",
    "        print(\"Say now!!!!\")\n",
    "        r.adjust_for_ambient_noise(source) #reduce noise\n",
    "        audio = r.listen(source) #take voice input from the microphone\n",
    "    sentence=r.recognize_google(audio)#to print voice into text\n",
    "    print(sentence) \n",
    "    return sentence"
   ]
  },
  {
   "cell_type": "code",
   "execution_count": 4,
   "id": "798bcf34",
   "metadata": {},
   "outputs": [],
   "source": [
    "translator = Translator()\n",
    "def translate(sentence,dest_lang,src_lang=None):\n",
    "    #src lang\n",
    "    if(src_lang==None):\n",
    "        src_lang=detect(sentence)\n",
    "    #dest lang\n",
    "    for i in languages:\n",
    "        if(dest_lang==i.name):\n",
    "            dest_lang_code=i.part1\n",
    "    #print(dest_lang_code)\n",
    "    #translation\n",
    "    result = translator.translate(sentence,src=src_lang,dest=dest_lang)\n",
    "    print(result)\n",
    "    return result,dest_lang_code"
   ]
  },
  {
   "cell_type": "code",
   "execution_count": 5,
   "id": "afd4f103",
   "metadata": {
    "scrolled": false
   },
   "outputs": [
    {
     "name": "stdout",
     "output_type": "stream",
     "text": [
      "Say now!!!!\n",
      "hello everyone\n"
     ]
    }
   ],
   "source": [
    "sentence=listen()"
   ]
  },
  {
   "cell_type": "code",
   "execution_count": 10,
   "id": "d93f074e",
   "metadata": {
    "scrolled": true
   },
   "outputs": [
    {
     "name": "stdout",
     "output_type": "stream",
     "text": [
      "Translated(src=fr, dest=en, text=Hello Everyone, pronunciation=None, extra_data=\"{'confiden...\")\n"
     ]
    }
   ],
   "source": [
    "result,dest_lang_code=translate(sentence,'English','French')"
   ]
  },
  {
   "cell_type": "code",
   "execution_count": 12,
   "id": "46473fe3",
   "metadata": {},
   "outputs": [],
   "source": [
    "speak(result.text,dest_lang_code)"
   ]
  },
  {
   "cell_type": "code",
   "execution_count": null,
   "id": "f1f26a20",
   "metadata": {},
   "outputs": [],
   "source": []
  }
 ],
 "metadata": {
  "kernelspec": {
   "display_name": "Python 3 (ipykernel)",
   "language": "python",
   "name": "python3"
  },
  "language_info": {
   "codemirror_mode": {
    "name": "ipython",
    "version": 3
   },
   "file_extension": ".py",
   "mimetype": "text/x-python",
   "name": "python",
   "nbconvert_exporter": "python",
   "pygments_lexer": "ipython3",
   "version": "3.10.9"
  }
 },
 "nbformat": 4,
 "nbformat_minor": 5
}
